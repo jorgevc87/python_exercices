{
 "cells": [
  {
   "cell_type": "code",
   "execution_count": 9,
   "metadata": {},
   "outputs": [
    {
     "name": "stdout",
     "output_type": "stream",
     "text": [
      "mi perro se llama firulais y tiene 5 año(s)\n",
      "El tipo de firulais es: <class '__main__.Perro'>\n",
      "firulais a veces come comida de tipo casera\n"
     ]
    }
   ],
   "source": [
    "### Capitulo 2\n",
    "### Programacion orientada a objetos\n",
    "\n",
    "class Perro:\n",
    "    # Se define inicializacion de la clase\n",
    "    def __init__(\n",
    "            self,\n",
    "            nombre : str,\n",
    "            edad : int\n",
    "    ):\n",
    "        self.nombre = nombre\n",
    "        self.edad = edad\n",
    "    \n",
    "    # Se define metodos para la clase\n",
    "    def pasear(\n",
    "            self,\n",
    "            hora : int\n",
    "    ):\n",
    "        # Cuerpo de la funcion\n",
    "        if hora in (8,9):\n",
    "            print(f\"{self.nombre} tiene que salir a pasear\")\n",
    "        else:\n",
    "            print(f\"{self.nombre} no tiene planeado pasear a esta hora\")\n",
    "\n",
    "    #\n",
    "    def comer(\n",
    "            self,\n",
    "            comida : str\n",
    "    ):\n",
    "        if comida == \"casera\":\n",
    "            print(f\"{self.nombre} a veces come comida de tipo {comida}\")\n",
    "        elif comida == \"super_premium\":\n",
    "            print(f\"{self.nombre} está muy feliz\")\n",
    "        else:\n",
    "            print(f\"{self.nombre} no acepta esta comida\")\n",
    "        \n",
    "    \n",
    "\n",
    "firulais = Perro(\"firulais\", 5)\n",
    "print(f\"mi perro se llama {firulais.nombre} y tiene {firulais.edad} año(s)\")\n",
    "print(f\"El tipo de firulais es: {type(firulais)}\")\n",
    "\n",
    "firulais.comer(\"casera\")\n",
    "\n"
   ]
  },
  {
   "cell_type": "code",
   "execution_count": 10,
   "metadata": {},
   "outputs": [],
   "source": [
    "class PerroPeruano(Perro):\n",
    "    def echar_bloqueador(self):\n",
    "        print(f\"{self.nombre} debe tener puesto su bloqueador\")\n",
    "\n",
    "# La clase PerroPeruano ya tiene todos los metodos que tiene la clase Perro\n"
   ]
  },
  {
   "cell_type": "code",
   "execution_count": 12,
   "metadata": {},
   "outputs": [
    {
     "ename": "Exception",
     "evalue": "La edad mínima es 18",
     "output_type": "error",
     "traceback": [
      "\u001b[1;31m---------------------------------------------------------------------------\u001b[0m",
      "\u001b[1;31mException\u001b[0m                                 Traceback (most recent call last)",
      "Cell \u001b[1;32mIn[12], line 5\u001b[0m\n\u001b[0;32m      2\u001b[0m edad_minima \u001b[38;5;241m=\u001b[39m \u001b[38;5;241m18\u001b[39m\n\u001b[0;32m      4\u001b[0m \u001b[38;5;28;01mif\u001b[39;00m edad \u001b[38;5;241m<\u001b[39m edad_minima:\n\u001b[1;32m----> 5\u001b[0m     \u001b[38;5;28;01mraise\u001b[39;00m \u001b[38;5;167;01mException\u001b[39;00m(\u001b[38;5;124mf\u001b[39m\u001b[38;5;124m\"\u001b[39m\u001b[38;5;124mLa edad mínima es \u001b[39m\u001b[38;5;132;01m{\u001b[39;00medad_minima\u001b[38;5;132;01m}\u001b[39;00m\u001b[38;5;124m\"\u001b[39m)\n",
      "\u001b[1;31mException\u001b[0m: La edad mínima es 18"
     ]
    }
   ],
   "source": [
    "edad = 16\n",
    "edad_minima = 18\n",
    "\n",
    "if edad < edad_minima:\n",
    "    raise Exception(f\"La edad mínima es {edad_minima}\")"
   ]
  },
  {
   "cell_type": "code",
   "execution_count": 19,
   "metadata": {},
   "outputs": [
    {
     "name": "stdout",
     "output_type": "stream",
     "text": [
      "1.4285714285714286\n",
      "Ejecución terminada correctamente\n",
      "Fin del programa\n"
     ]
    }
   ],
   "source": [
    "# Manejo de errores\n",
    "a = 10\n",
    "b = 7\n",
    "\n",
    "try:\n",
    "    print(a/b)\n",
    "except ZeroDivisionError:\n",
    "    print(\"No se puede realizar una division por cero\")\n",
    "except:\n",
    "    print(\"Revisa que los números ingresados estén correctos\")\n",
    "else:\n",
    "    print(\"Ejecución terminada correctamente\")\n",
    "finally:\n",
    "    print(\"Fin del programa\")"
   ]
  },
  {
   "cell_type": "code",
   "execution_count": 20,
   "metadata": {},
   "outputs": [
    {
     "data": {
      "text/plain": [
       "[1, 4, 9, 16]"
      ]
     },
     "execution_count": 20,
     "metadata": {},
     "output_type": "execute_result"
    }
   ],
   "source": [
    "## List comprehension\n",
    "\n",
    "numeros = [1,2,3,4]\n",
    "cuadrados = []\n",
    "\n",
    "for i in numeros:\n",
    "    cuadrados.append(i**2)\n",
    "\n",
    "cuadrados"
   ]
  },
  {
   "cell_type": "code",
   "execution_count": 21,
   "metadata": {},
   "outputs": [
    {
     "data": {
      "text/plain": [
       "[1, 4, 9, 16]"
      ]
     },
     "execution_count": 21,
     "metadata": {},
     "output_type": "execute_result"
    }
   ],
   "source": [
    "## List comprehension\n",
    "\n",
    "cuadrados = [i**2 for i in numeros]\n",
    "cuadrados"
   ]
  },
  {
   "cell_type": "code",
   "execution_count": 22,
   "metadata": {},
   "outputs": [
    {
     "data": {
      "text/plain": [
       "[2, 4, 6, 8, 10, 12, 14, 16]"
      ]
     },
     "execution_count": 22,
     "metadata": {},
     "output_type": "execute_result"
    }
   ],
   "source": [
    "pares = []\n",
    "for i in range(1, 18):\n",
    "    if i%2 == 0: pares.append(i)\n",
    "\n",
    "pares\n"
   ]
  },
  {
   "cell_type": "code",
   "execution_count": 23,
   "metadata": {},
   "outputs": [
    {
     "data": {
      "text/plain": [
       "[2, 4, 6, 8, 10, 12, 14, 16]"
      ]
     },
     "execution_count": 23,
     "metadata": {},
     "output_type": "execute_result"
    }
   ],
   "source": [
    "## Another way\n",
    "pares = [i for i in range(1,18) if i%2 == 0]\n",
    "pares"
   ]
  },
  {
   "cell_type": "code",
   "execution_count": 24,
   "metadata": {},
   "outputs": [
    {
     "data": {
      "text/plain": [
       "[13, 15, 16, 18]"
      ]
     },
     "execution_count": 24,
     "metadata": {},
     "output_type": "execute_result"
    }
   ],
   "source": [
    "notas = [13,15,10,9,16,18,11]\n",
    "aprobados = [i for i in notas if i>=13]\n",
    "\n",
    "aprobados"
   ]
  },
  {
   "cell_type": "code",
   "execution_count": 28,
   "metadata": {},
   "outputs": [
    {
     "data": {
      "text/plain": [
       "False"
      ]
     },
     "execution_count": 28,
     "metadata": {},
     "output_type": "execute_result"
    }
   ],
   "source": [
    "def is_consonant(text : str):\n",
    "    vocales = \"aeiou\"\n",
    "    return text.isalpha() and text.lower() not in vocales\n",
    "\n",
    "is_consonant(\"1\")"
   ]
  }
 ],
 "metadata": {
  "kernelspec": {
   "display_name": "Python 3",
   "language": "python",
   "name": "python3"
  },
  "language_info": {
   "codemirror_mode": {
    "name": "ipython",
    "version": 3
   },
   "file_extension": ".py",
   "mimetype": "text/x-python",
   "name": "python",
   "nbconvert_exporter": "python",
   "pygments_lexer": "ipython3",
   "version": "3.12.6"
  }
 },
 "nbformat": 4,
 "nbformat_minor": 2
}

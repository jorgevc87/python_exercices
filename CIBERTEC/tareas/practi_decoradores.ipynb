{
 "cells": [
  {
   "cell_type": "code",
   "execution_count": 3,
   "metadata": {},
   "outputs": [
    {
     "name": "stdout",
     "output_type": "stream",
     "text": [
      "##############################\n",
      "Text\n",
      "##############################\n"
     ]
    }
   ],
   "source": [
    "# Practica \n",
    "# Crear un decorador que imprime # 30 veces antes y despues de un texto \n",
    "def decorador(func):\n",
    "    def wrapper(*args, **kwargs):\n",
    "        print(\"#\"*30)\n",
    "        resultado = func(*args, **kwargs)\n",
    "        print(\"#\"*30)\n",
    "        return resultado\n",
    "    \n",
    "    return wrapper\n",
    "\n",
    "@decorador\n",
    "def imprimir_texto(texto):\n",
    "    print(texto)\n",
    "\n",
    "# Llamar a la funcion decorada\n",
    "imprimir_texto(\"Text\")"
   ]
  }
 ],
 "metadata": {
  "kernelspec": {
   "display_name": "Python 3",
   "language": "python",
   "name": "python3"
  },
  "language_info": {
   "codemirror_mode": {
    "name": "ipython",
    "version": 3
   },
   "file_extension": ".py",
   "mimetype": "text/x-python",
   "name": "python",
   "nbconvert_exporter": "python",
   "pygments_lexer": "ipython3",
   "version": "3.12.6"
  }
 },
 "nbformat": 4,
 "nbformat_minor": 2
}

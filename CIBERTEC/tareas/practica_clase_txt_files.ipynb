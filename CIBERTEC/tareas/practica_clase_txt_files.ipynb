{
 "cells": [
  {
   "cell_type": "code",
   "execution_count": 4,
   "metadata": {},
   "outputs": [
    {
     "name": "stdout",
     "output_type": "stream",
     "text": [
      "El archivo a sido creado correctamente\n"
     ]
    }
   ],
   "source": [
    "# convertir dog_breeds en mayúscula y guardarlo en otro archivo dog_breeds_m.txt\n",
    "\n",
    "text = \"dog_breeds\"\n",
    "text_mayuscula = text.upper()\n",
    "\n",
    "with open(\"archivo.txt\", \"w\") as archivo:\n",
    "    archivo.write(text_mayuscula)\n",
    "\n",
    "print(\"El archivo a sido creado correctamente\")"
   ]
  }
 ],
 "metadata": {
  "kernelspec": {
   "display_name": "Python 3",
   "language": "python",
   "name": "python3"
  },
  "language_info": {
   "codemirror_mode": {
    "name": "ipython",
    "version": 3
   },
   "file_extension": ".py",
   "mimetype": "text/x-python",
   "name": "python",
   "nbconvert_exporter": "python",
   "pygments_lexer": "ipython3",
   "version": "3.12.6"
  }
 },
 "nbformat": 4,
 "nbformat_minor": 2
}

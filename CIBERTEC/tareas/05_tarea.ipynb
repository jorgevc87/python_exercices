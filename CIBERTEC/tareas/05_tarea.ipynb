{
 "cells": [
  {
   "cell_type": "code",
   "execution_count": 5,
   "metadata": {},
   "outputs": [
    {
     "name": "stdout",
     "output_type": "stream",
     "text": [
      "el radio de myCirculo es: 24\n",
      "el area de myCirculo es: 576\n",
      "el perimetro de myCirculo es: 150.79644737231007\n"
     ]
    }
   ],
   "source": [
    "### Tarea 05\n",
    "# 01.- OOP - Crear una clase llamada círculo\n",
    "# a.- Definir un radio de iniciación\n",
    "# b.- Definir 2 metodos\n",
    "# c.- Metodo A Calcular area\n",
    "# d.- Metodo B Calcular perimetro\n",
    "# e.- Crear un objeto circulo y pasar un radio, mostrar area y perimetro\n",
    "\n",
    "import math\n",
    "\n",
    "class Circulo:\n",
    "    def __init__(self, radio):\n",
    "        self.radio = radio\n",
    "    \n",
    "    def calcularArea(self):\n",
    "        return self.radio**2\n",
    "    \n",
    "    def calculaPerimetro(self):\n",
    "        return 2*math.pi*self.radio\n",
    "    \n",
    "# Uso\n",
    "myCirculo = Circulo(24)\n",
    "print(f\"el radio de myCirculo es: {myCirculo.radio}\")\n",
    "print(f\"el area de myCirculo es: {myCirculo.calcularArea()}\")\n",
    "print(f\"el perimetro de myCirculo es: {myCirculo.calculaPerimetro()}\")\n",
    "\n",
    "    "
   ]
  },
  {
   "cell_type": "code",
   "execution_count": 11,
   "metadata": {},
   "outputs": [
    {
     "name": "stdout",
     "output_type": "stream",
     "text": [
      "La division de entre 21 y 4: 5.25\n"
     ]
    }
   ],
   "source": [
    "# 02.- ERRORES - Python usa tipos de errores predefinidos. Uno de ellos es ZeroDivisionError. Hacer\n",
    "# uso de este tipo de error para implementar una rutina de manejo de divisiones en general\n",
    "# y reconocer la division por cero.\n",
    "\n",
    "class myMathCalc:\n",
    "    def __init__(self, dividendo, divisor):\n",
    "        self.dividendo = dividendo\n",
    "        self.divisor = divisor\n",
    "    \n",
    "    def dividir(self):\n",
    "        try:\n",
    "            resultado = self.dividendo/self.divisor\n",
    "        except ZeroDivisionError:\n",
    "            return \"Error -> Division por cero identificado\"\n",
    "        else:\n",
    "            return resultado\n",
    "    \n",
    "\n",
    "# Uso\n",
    "math = myMathCalc(21, 4)\n",
    "print(f\"La division de entre {math.dividendo} y {math.divisor}: {math.dividir()}\")"
   ]
  },
  {
   "cell_type": "code",
   "execution_count": 13,
   "metadata": {},
   "outputs": [
    {
     "name": "stdout",
     "output_type": "stream",
     "text": [
      "{2: True, 3: True, 4: False, 5: True, 16: False, 17: True, 18: False, 19: True, 20: False}\n"
     ]
    }
   ],
   "source": [
    "# 03.- LIST COMPREHENSION - determinar si un número es primo o no usando list comprehensions.\n",
    "def es_primo(n):\n",
    "    return n > 1 and all(n % i != 0 for i in range(2, int(n**0.5) + 1))\n",
    "\n",
    "# Uso\n",
    "numeros = [2, 3, 4, 5, 16, 17, 18, 19, 20]\n",
    "resultados = {n: es_primo(n) for n in numeros}\n",
    "\n",
    "print(resultados)"
   ]
  },
  {
   "cell_type": "code",
   "execution_count": 17,
   "metadata": {},
   "outputs": [
    {
     "name": "stdout",
     "output_type": "stream",
     "text": [
      "[Employee(name='Carlos', edad=13), Employee(name='Jorge', edad=23), Employee(name='Maria', edad=26)]\n"
     ]
    }
   ],
   "source": [
    "## 04 .- LAMBDA - crear para la siguiente clase un sort basado en edad. Crear 3 \n",
    "# empleados e imprimir nombre del empleado por nombre de edad.\n",
    "\n",
    "class Employee:\n",
    "    def __init__(self, name, edad):\n",
    "        self.name = name\n",
    "        self.edad = edad\n",
    "    \n",
    "    def __repr__(self): return f\"Employee(name='{self.name}', edad={self.edad})\"\n",
    "\n",
    "empleados = [Employee(\"Jorge\", 23), Employee(\"Carlos\", 13), Employee(\"Maria\", 26)]\n",
    "\n",
    "# Ordenar\n",
    "empleados_ordenados = sorted(empleados, key=lambda empleado: empleado.edad)\n",
    "\n",
    "print(empleados_ordenados)\n"
   ]
  }
 ],
 "metadata": {
  "kernelspec": {
   "display_name": "Python 3",
   "language": "python",
   "name": "python3"
  },
  "language_info": {
   "codemirror_mode": {
    "name": "ipython",
    "version": 3
   },
   "file_extension": ".py",
   "mimetype": "text/x-python",
   "name": "python",
   "nbconvert_exporter": "python",
   "pygments_lexer": "ipython3",
   "version": "3.12.6"
  }
 },
 "nbformat": 4,
 "nbformat_minor": 2
}

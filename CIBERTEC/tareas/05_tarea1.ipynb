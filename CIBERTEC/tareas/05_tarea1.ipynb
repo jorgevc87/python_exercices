{
 "cells": [
  {
   "cell_type": "code",
   "execution_count": 2,
   "metadata": {},
   "outputs": [
    {
     "data": {
      "text/plain": [
       "18"
      ]
     },
     "execution_count": 2,
     "metadata": {},
     "output_type": "execute_result"
    }
   ],
   "source": [
    "# 1.- Calcular el tamaño de la cadena \"Esta es una cadena\" sin usar la función len\n",
    "\n",
    "contador = 0 \n",
    "for caracter in \"Esta es una cadena\":\n",
    "    contador += 1\n",
    "\n",
    "contador"
   ]
  },
  {
   "cell_type": "code",
   "execution_count": 4,
   "metadata": {},
   "outputs": [
    {
     "data": {
      "text/plain": [
       "5"
      ]
     },
     "execution_count": 4,
     "metadata": {},
     "output_type": "execute_result"
    }
   ],
   "source": [
    "# 2.- Contar el número de caracteres en la cadena trabajando.pe\n",
    "contador = 0\n",
    "caracteres = \"aeiou\"\n",
    "for caracter in \"trabajando.pe\":\n",
    "    if caracter in caracteres:\n",
    "        contador += 1\n",
    "\n",
    "contador"
   ]
  },
  {
   "cell_type": "code",
   "execution_count": 6,
   "metadata": {},
   "outputs": [
    {
     "data": {
      "text/plain": [
       "['a', 'b', 'c']"
      ]
     },
     "execution_count": 6,
     "metadata": {},
     "output_type": "execute_result"
    }
   ],
   "source": [
    "# 3.- Eliminar duplicados de la lista ['a', 'b', 'c', 'a', 'c', 'c']\n",
    "lista = ['a', 'b', 'c', 'a', 'c', 'c']\n",
    "lista_sin_duplicados = []\n",
    "\n",
    "for item in lista:\n",
    "    if item not in lista_sin_duplicados:\n",
    "        lista_sin_duplicados.append(item)\n",
    "\n",
    "lista_sin_duplicados"
   ]
  },
  {
   "cell_type": "code",
   "execution_count": 13,
   "metadata": {},
   "outputs": [
    {
     "name": "stdout",
     "output_type": "stream",
     "text": [
      "*\n",
      "**\n",
      "***\n",
      "****\n",
      "*****\n",
      "****\n",
      "***\n",
      "**\n",
      "*\n"
     ]
    }
   ],
   "source": [
    "# 4.- Imprimir el patrón siguiente usando bucles:\n",
    "\n",
    "\n",
    "for i in range(1,6,1):\n",
    "    print(\"*\"*i)\n",
    "\n",
    "for i in range(4,0,-1):\n",
    "    print(\"*\"*i)\n",
    "\n",
    "\n"
   ]
  }
 ],
 "metadata": {
  "kernelspec": {
   "display_name": "Python 3",
   "language": "python",
   "name": "python3"
  },
  "language_info": {
   "codemirror_mode": {
    "name": "ipython",
    "version": 3
   },
   "file_extension": ".py",
   "mimetype": "text/x-python",
   "name": "python",
   "nbconvert_exporter": "python",
   "pygments_lexer": "ipython3",
   "version": "3.12.6"
  }
 },
 "nbformat": 4,
 "nbformat_minor": 2
}

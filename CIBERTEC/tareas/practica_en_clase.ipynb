{
 "cells": [
  {
   "cell_type": "code",
   "execution_count": 21,
   "metadata": {},
   "outputs": [
    {
     "data": {
      "text/plain": [
       "{'config': {'title': 'Tipo de cambio',\n",
       "  'series': [{'name': 'Tipo de cambio - TC 11:00 AM (S/ por US$) - Venta',\n",
       "    'dec': '3'}]},\n",
       " 'periods': [{'name': '18.Nov.24', 'values': ['3.794']},\n",
       "  {'name': '19.Nov.24', 'values': ['3.795']},\n",
       "  {'name': '20.Nov.24', 'values': ['3.793']},\n",
       "  {'name': '21.Nov.24', 'values': ['3.794']},\n",
       "  {'name': '22.Nov.24', 'values': ['3.798']},\n",
       "  {'name': '25.Nov.24', 'values': ['3.77']},\n",
       "  {'name': '26.Nov.24', 'values': ['3.767']},\n",
       "  {'name': '27.Nov.24', 'values': ['3.758']},\n",
       "  {'name': '28.Nov.24', 'values': ['3.75']},\n",
       "  {'name': '29.Nov.24', 'values': ['3.738']},\n",
       "  {'name': '02.Dic.24', 'values': ['3.765']},\n",
       "  {'name': '03.Dic.24', 'values': ['3.743']},\n",
       "  {'name': '04.Dic.24', 'values': ['3.736']},\n",
       "  {'name': '05.Dic.24', 'values': ['3.731']},\n",
       "  {'name': '06.Dic.24', 'values': ['3.723']},\n",
       "  {'name': '09.Dic.24', 'values': ['n.d.']},\n",
       "  {'name': '10.Dic.24', 'values': ['3.714']},\n",
       "  {'name': '11.Dic.24', 'values': ['3.721']},\n",
       "  {'name': '12.Dic.24', 'values': ['3.736']},\n",
       "  {'name': '13.Dic.24', 'values': ['3.739']},\n",
       "  {'name': '16.Dic.24', 'values': ['3.734']},\n",
       "  {'name': '17.Dic.24', 'values': ['3.743']},\n",
       "  {'name': '18.Dic.24', 'values': ['3.738']},\n",
       "  {'name': '19.Dic.24', 'values': ['3.742']},\n",
       "  {'name': '20.Dic.24', 'values': ['3.728']},\n",
       "  {'name': '23.Dic.24', 'values': ['3.732']},\n",
       "  {'name': '24.Dic.24', 'values': ['3.726']},\n",
       "  {'name': '25.Dic.24', 'values': ['n.d.']},\n",
       "  {'name': '26.Dic.24', 'values': ['3.745']},\n",
       "  {'name': '27.Dic.24', 'values': ['3.744']},\n",
       "  {'name': '30.Dic.24', 'values': ['3.772']},\n",
       "  {'name': '31.Dic.24', 'values': ['n.d.']},\n",
       "  {'name': '01.Ene.25', 'values': ['n.d.']},\n",
       "  {'name': '02.Ene.25', 'values': ['3.751']}]}"
      ]
     },
     "execution_count": 21,
     "metadata": {},
     "output_type": "execute_result"
    }
   ],
   "source": [
    "import json\n",
    "import requests\n",
    "\n",
    "response = requests.get(\"https://estadisticas.bcrp.gob.pe/estadisticas/series/api/PD04644PD/json\")\n",
    "data_dict = json.loads(response.text)\n",
    "\n",
    "#Extraer los datos de ese diccionario a un csv usando ciclos y pandas (.to_csv())\n",
    "\n",
    "data_dict\n",
    "#data_dict[\"config\"]\n",
    "#data_dict[\"config\"]"
   ]
  }
 ],
 "metadata": {
  "kernelspec": {
   "display_name": "Python 3",
   "language": "python",
   "name": "python3"
  },
  "language_info": {
   "codemirror_mode": {
    "name": "ipython",
    "version": 3
   },
   "file_extension": ".py",
   "mimetype": "text/x-python",
   "name": "python",
   "nbconvert_exporter": "python",
   "pygments_lexer": "ipython3",
   "version": "3.12.6"
  }
 },
 "nbformat": 4,
 "nbformat_minor": 2
}

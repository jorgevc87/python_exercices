{
 "cells": [
  {
   "cell_type": "code",
   "execution_count": 5,
   "metadata": {},
   "outputs": [
    {
     "name": "stdout",
     "output_type": "stream",
     "text": [
      "Aprobado con 11\n"
     ]
    }
   ],
   "source": [
    "### Sesion 2\n",
    "### Estructuras de control\n",
    "\n",
    "nota_minima = 13\n",
    "nota = 11\n",
    "paneton = True\n",
    "\n",
    "if nota < nota_minima and paneton == False:\n",
    "    print(\"Desaprobado y repites ciclo\")\n",
    "elif paneton:\n",
    "    print(f\"Aprobado con {nota}\")\n",
    "else:\n",
    "    print(\"Aprobado\")"
   ]
  },
  {
   "cell_type": "code",
   "execution_count": 6,
   "metadata": {},
   "outputs": [
    {
     "name": "stdout",
     "output_type": "stream",
     "text": [
      "1\n",
      "2\n",
      "3\n",
      "4\n",
      "5\n",
      "6\n"
     ]
    }
   ],
   "source": [
    "### Ciclo finito\n",
    "\n",
    "for i in [1,2,3,4,5,6]:\n",
    "    print(i)"
   ]
  },
  {
   "cell_type": "code",
   "execution_count": 9,
   "metadata": {},
   "outputs": [
    {
     "name": "stdout",
     "output_type": "stream",
     "text": [
      "10\n",
      "8\n",
      "6\n",
      "4\n",
      "2\n",
      "0\n"
     ]
    }
   ],
   "source": [
    "for i in range(10,-1, -2):\n",
    "    print(i)"
   ]
  },
  {
   "cell_type": "code",
   "execution_count": 10,
   "metadata": {},
   "outputs": [
    {
     "name": "stdout",
     "output_type": "stream",
     "text": [
      "[2, 4, 6, 8, 10, 12, 14, 16, 18, 20, 22, 24, 26, 28, 30]\n"
     ]
    }
   ],
   "source": [
    "### Un ejercicio con los dos ciclos juntos\n",
    "\n",
    "pares = []\n",
    "for i in range(1,31):\n",
    "    if i % 2 == 0:\n",
    "        pares.append(i)\n",
    "\n",
    "print(pares)"
   ]
  },
  {
   "cell_type": "code",
   "execution_count": 11,
   "metadata": {},
   "outputs": [
    {
     "name": "stdout",
     "output_type": "stream",
     "text": [
      "E\n",
      "s\n",
      "t\n",
      "e\n",
      " \n",
      "e\n",
      "s\n",
      " \n",
      "u\n",
      "n\n",
      " \n",
      "t\n",
      "e\n",
      "x\n",
      "t\n",
      "o\n",
      " \n",
      "i\n",
      "n\n",
      "t\n",
      "e\n",
      "r\n",
      "e\n",
      "s\n",
      "a\n",
      "n\n",
      "t\n",
      "e\n"
     ]
    }
   ],
   "source": [
    "### Iteracio sobre texto\n",
    "\n",
    "texto = \"Este es un texto interesante\"\n",
    "\n",
    "for i in texto:\n",
    "    print(i)"
   ]
  },
  {
   "cell_type": "code",
   "execution_count": 13,
   "metadata": {},
   "outputs": [
    {
     "name": "stdout",
     "output_type": "stream",
     "text": [
      "10\n",
      "11\n",
      "12\n",
      "13\n",
      "14\n"
     ]
    }
   ],
   "source": [
    "### Ciclo infinito\n",
    "numero = 10\n",
    "numero_maximo = 15\n",
    "\n",
    "while numero < numero_maximo:\n",
    "    print(numero)\n",
    "    numero = numero + 1"
   ]
  },
  {
   "cell_type": "code",
   "execution_count": 15,
   "metadata": {},
   "outputs": [
    {
     "name": "stdout",
     "output_type": "stream",
     "text": [
      "Factorial de 4 es: 24\n"
     ]
    }
   ],
   "source": [
    "### Ejercicios\n",
    "\n",
    "numero = 4\n",
    "resultado = 1 \n",
    "\n",
    "for i in range(1, numero + 1):\n",
    "    resultado *= i\n",
    "\n",
    "print(f\"Factorial de {numero} es: {resultado}\")"
   ]
  },
  {
   "cell_type": "code",
   "execution_count": 17,
   "metadata": {},
   "outputs": [
    {
     "name": "stdout",
     "output_type": "stream",
     "text": [
      "la combinatoria 10 y 2 es 45.0\n"
     ]
    }
   ],
   "source": [
    "### Combinatoria\n",
    "n = 10\n",
    "r = 2\n",
    "\n",
    "n_factorial = 1\n",
    "for i in range(1, n + 1):\n",
    "    n_factorial *= i\n",
    "\n",
    "r_factorial = 1\n",
    "for i in range(1, r + 1):\n",
    "    r_factorial *= i\n",
    "\n",
    "n_r_factorial = 1\n",
    "for i in range(1, (n-r) + 1):\n",
    "    n_r_factorial *= i\n",
    "\n",
    "### Entonces.....\n",
    "combinatoria = n_factorial / (r_factorial * n_r_factorial)\n",
    "\n",
    "print(f\"la combinatoria {n} y {r} es {combinatoria}\")\n"
   ]
  },
  {
   "cell_type": "code",
   "execution_count": 18,
   "metadata": {},
   "outputs": [
    {
     "data": {
      "text/plain": [
       "45"
      ]
     },
     "execution_count": 18,
     "metadata": {},
     "output_type": "execute_result"
    }
   ],
   "source": [
    "### Ejercicio de combinatoria pero con libreria\n",
    "import math\n",
    "\n",
    "math.comb(10, 2) # 45"
   ]
  },
  {
   "cell_type": "code",
   "execution_count": 20,
   "metadata": {},
   "outputs": [],
   "source": [
    "### Funciones\n",
    "def calcular_factorial(n, r):\n",
    "    n_factorial = 1\n",
    "    for i in range(1, n + 1):\n",
    "        n_factorial *= i\n",
    "\n",
    "    r_factorial = 1\n",
    "    for i in range(1, r + 1):\n",
    "        r_factorial *= i\n",
    "\n",
    "    n_r_factorial = 1\n",
    "    for i in range(1, (n-r) + 1):\n",
    "        n_r_factorial *= i\n",
    "\n",
    "    ### Entonces.....\n",
    "    return n_factorial / (r_factorial * n_r_factorial)\n",
    "\n",
    "def calcular_factorial_dos(n, r):\n",
    "    n_factorial = 1\n",
    "    for i in range(1, n + 1):\n",
    "        n_factorial *= i\n",
    "\n",
    "    r_factorial = 1\n",
    "    for i in range(1, r + 1):\n",
    "        r_factorial *= i\n",
    "\n",
    "    n_r_factorial = 1\n",
    "    for i in range(1, (n-r) + 1):\n",
    "        n_r_factorial *= i\n",
    "\n",
    "    ### Entonces.....\n",
    "    print(n_factorial / (r_factorial * n_r_factorial))\n",
    "\n"
   ]
  },
  {
   "cell_type": "code",
   "execution_count": 21,
   "metadata": {},
   "outputs": [
    {
     "name": "stdout",
     "output_type": "stream",
     "text": [
      "<class 'float'>\n",
      "45.0\n",
      "<class 'NoneType'>\n"
     ]
    }
   ],
   "source": [
    "print(type(calcular_factorial(10, 2)))\n",
    "print(type(calcular_factorial_dos(10,2)))"
   ]
  }
 ],
 "metadata": {
  "kernelspec": {
   "display_name": "Python 3",
   "language": "python",
   "name": "python3"
  },
  "language_info": {
   "codemirror_mode": {
    "name": "ipython",
    "version": 3
   },
   "file_extension": ".py",
   "mimetype": "text/x-python",
   "name": "python",
   "nbconvert_exporter": "python",
   "pygments_lexer": "ipython3",
   "version": "3.12.6"
  }
 },
 "nbformat": 4,
 "nbformat_minor": 2
}
